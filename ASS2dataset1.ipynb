{
 "cells": [
  {
   "cell_type": "code",
   "execution_count": 1,
   "metadata": {},
   "outputs": [],
   "source": [
    "import numpy as np\n",
    "import matplotlib.pyplot as plt"
   ]
  },
  {
   "cell_type": "code",
   "execution_count": 2,
   "metadata": {},
   "outputs": [],
   "source": [
    "dataset = np.load(\"FashionMNIST0.5.npz\")"
   ]
  },
  {
   "cell_type": "code",
   "execution_count": 3,
   "metadata": {},
   "outputs": [
    {
     "name": "stdout",
     "output_type": "stream",
     "text": [
      "(18000, 28, 28)\n",
      "(18000,)\n",
      "(3000, 28, 28)\n",
      "(3000,)\n"
     ]
    }
   ],
   "source": [
    "#load the dataset and check the shape of attributes \n",
    "Xtr_val = dataset[\"Xtr\"]\n",
    "Str_val = dataset[\"Str\"]\n",
    "Xts = dataset[\"Xts\"]\n",
    "Yts = dataset[\"Yts\"]\n",
    "\n",
    "print(Xtr_val.shape)\n",
    "print(Str_val.shape)\n",
    "print(Xts.shape)\n",
    "print(Yts.shape)"
   ]
  },
  {
   "cell_type": "code",
   "execution_count": 4,
   "metadata": {},
   "outputs": [],
   "source": [
    "#reshape to matrices\n",
    "Xtr_val = Xtr_val.reshape(-1, 28*28)\n",
    "Xts = Xts.reshape(-1, 28*28)"
   ]
  },
  {
   "cell_type": "code",
   "execution_count": 5,
   "metadata": {},
   "outputs": [],
   "source": [
    "from sklearn.model_selection import train_test_split"
   ]
  },
  {
   "cell_type": "code",
   "execution_count": null,
   "metadata": {},
   "outputs": [],
   "source": []
  },
  {
   "cell_type": "code",
   "execution_count": 14,
   "metadata": {},
   "outputs": [
    {
     "name": "stdout",
     "output_type": "stream",
     "text": [
      "919\n",
      "2724\n",
      "2598\n"
     ]
    },
    {
     "name": "stderr",
     "output_type": "stream",
     "text": [
      "/Users/myeumuh/opt/anaconda3/lib/python3.7/site-packages/sklearn/utils/optimize.py:203: ConvergenceWarning: newton-cg failed to converge. Increase the number of iterations.\n",
      "  \"number of iterations.\", ConvergenceWarning)\n"
     ]
    }
   ],
   "source": [
    "#Logistic Regression Classifier Classifier Estimator\n",
    "from sklearn.linear_model import LogisticRegression\n",
    "clf1 = LogisticRegression(multi_class = \"multinomial\", solver = \"newton-cg\")\n",
    "\n",
    "clf1.fit(Xtr_val, Str_val)\n",
    "    \n",
    "# Estimate Transition Matrix\n",
    "predict_noise1 = clf1.predict_proba(Xts)\n",
    "\n",
    "#choose 3 representative rows/(3 max probabilty in each column)\n",
    "print(np.argmax(predict_noise1[:,0]))    # 1st column max number index\n",
    "print(np.argmax(predict_noise1[:,1]))    # 2ed column max number index\n",
    "print(np.argmax(predict_noise1[:,2]))    # 3rd column max number index"
   ]
  },
  {
   "cell_type": "code",
   "execution_count": 15,
   "metadata": {
    "scrolled": true
   },
   "outputs": [
    {
     "data": {
      "text/plain": [
       "array([[9.99952084e-01, 4.79159630e-05, 4.47293996e-11],\n",
       "       [4.82152803e-03, 9.95148434e-01, 3.00380142e-05],\n",
       "       [3.90790291e-03, 8.44221891e-04, 9.95247875e-01]])"
      ]
     },
     "execution_count": 15,
     "metadata": {},
     "output_type": "execute_result"
    }
   ],
   "source": [
    "transition_matrix = np.array([predict_noise1[919], predict_noise1[2724], predict_noise1[2598]])\n",
    "transition_matrix"
   ]
  },
  {
   "cell_type": "code",
   "execution_count": 6,
   "metadata": {},
   "outputs": [
    {
     "name": "stderr",
     "output_type": "stream",
     "text": [
      "/Users/myeumuh/opt/anaconda3/lib/python3.7/site-packages/sklearn/utils/optimize.py:203: ConvergenceWarning: newton-cg failed to converge. Increase the number of iterations.\n",
      "  \"number of iterations.\", ConvergenceWarning)\n"
     ]
    },
    {
     "name": "stdout",
     "output_type": "stream",
     "text": [
      "0.45055555555555554\n",
      "0.43833333333333335\n"
     ]
    },
    {
     "name": "stderr",
     "output_type": "stream",
     "text": [
      "/Users/myeumuh/opt/anaconda3/lib/python3.7/site-packages/sklearn/utils/optimize.py:203: ConvergenceWarning: newton-cg failed to converge. Increase the number of iterations.\n",
      "  \"number of iterations.\", ConvergenceWarning)\n"
     ]
    },
    {
     "name": "stdout",
     "output_type": "stream",
     "text": [
      "0.45\n",
      "0.44\n"
     ]
    },
    {
     "name": "stderr",
     "output_type": "stream",
     "text": [
      "/Users/myeumuh/opt/anaconda3/lib/python3.7/site-packages/sklearn/utils/optimize.py:203: ConvergenceWarning: newton-cg failed to converge. Increase the number of iterations.\n",
      "  \"number of iterations.\", ConvergenceWarning)\n"
     ]
    },
    {
     "name": "stdout",
     "output_type": "stream",
     "text": [
      "0.4613888888888889\n",
      "0.45055555555555554\n"
     ]
    },
    {
     "name": "stderr",
     "output_type": "stream",
     "text": [
      "/Users/myeumuh/opt/anaconda3/lib/python3.7/site-packages/sklearn/utils/optimize.py:203: ConvergenceWarning: newton-cg failed to converge. Increase the number of iterations.\n",
      "  \"number of iterations.\", ConvergenceWarning)\n"
     ]
    },
    {
     "name": "stdout",
     "output_type": "stream",
     "text": [
      "0.44666666666666666\n",
      "0.44055555555555553\n"
     ]
    },
    {
     "name": "stderr",
     "output_type": "stream",
     "text": [
      "/Users/myeumuh/opt/anaconda3/lib/python3.7/site-packages/sklearn/utils/optimize.py:203: ConvergenceWarning: newton-cg failed to converge. Increase the number of iterations.\n",
      "  \"number of iterations.\", ConvergenceWarning)\n"
     ]
    },
    {
     "name": "stdout",
     "output_type": "stream",
     "text": [
      "0.43194444444444446\n",
      "0.4272222222222222\n"
     ]
    },
    {
     "name": "stderr",
     "output_type": "stream",
     "text": [
      "/Users/myeumuh/opt/anaconda3/lib/python3.7/site-packages/sklearn/utils/optimize.py:203: ConvergenceWarning: newton-cg failed to converge. Increase the number of iterations.\n",
      "  \"number of iterations.\", ConvergenceWarning)\n"
     ]
    },
    {
     "name": "stdout",
     "output_type": "stream",
     "text": [
      "0.44333333333333336\n",
      "0.4386111111111111\n"
     ]
    },
    {
     "name": "stderr",
     "output_type": "stream",
     "text": [
      "/Users/myeumuh/opt/anaconda3/lib/python3.7/site-packages/sklearn/utils/optimize.py:203: ConvergenceWarning: newton-cg failed to converge. Increase the number of iterations.\n",
      "  \"number of iterations.\", ConvergenceWarning)\n"
     ]
    },
    {
     "name": "stdout",
     "output_type": "stream",
     "text": [
      "0.45111111111111113\n",
      "0.4375\n"
     ]
    },
    {
     "name": "stderr",
     "output_type": "stream",
     "text": [
      "/Users/myeumuh/opt/anaconda3/lib/python3.7/site-packages/sklearn/utils/optimize.py:203: ConvergenceWarning: newton-cg failed to converge. Increase the number of iterations.\n",
      "  \"number of iterations.\", ConvergenceWarning)\n"
     ]
    },
    {
     "name": "stdout",
     "output_type": "stream",
     "text": [
      "0.4425\n",
      "0.4311111111111111\n"
     ]
    },
    {
     "name": "stderr",
     "output_type": "stream",
     "text": [
      "/Users/myeumuh/opt/anaconda3/lib/python3.7/site-packages/sklearn/utils/optimize.py:203: ConvergenceWarning: newton-cg failed to converge. Increase the number of iterations.\n",
      "  \"number of iterations.\", ConvergenceWarning)\n"
     ]
    },
    {
     "name": "stdout",
     "output_type": "stream",
     "text": [
      "0.45305555555555554\n",
      "0.4452777777777778\n",
      "0.44055555555555553\n",
      "0.4313888888888889\n"
     ]
    },
    {
     "name": "stderr",
     "output_type": "stream",
     "text": [
      "/Users/myeumuh/opt/anaconda3/lib/python3.7/site-packages/sklearn/utils/optimize.py:203: ConvergenceWarning: newton-cg failed to converge. Increase the number of iterations.\n",
      "  \"number of iterations.\", ConvergenceWarning)\n"
     ]
    }
   ],
   "source": [
    "#Logistic Regression Classifier\n",
    "from sklearn.linear_model import LogisticRegression\n",
    "clf1 = LogisticRegression(multi_class = \"multinomial\", solver = \"newton-cg\")\n",
    "\n",
    "time = 10\n",
    "for i in range(time):\n",
    "    X_train, X_test, y_train, y_test = train_test_split(Xtr_val, Str_val,test_size=0.2)\n",
    "    clf1.fit(X_train, y_train)\n",
    "    \n",
    "    matrix = np.array([[0.5, 0.2, 0.3],[0.3, 0.5, 0.2],[0.2, 0.3, 0.5]])\n",
    "    matrix_inv = np.linalg.pinv(matrix)\n",
    "\n",
    "    predict_noise1 = clf1.predict_proba(X_test)\n",
    "    predict_noise_adjusted1 = np.dot(matrix_inv, predict_noise1.T)\n",
    "\n",
    "    predict_result_clean1 = np.argmax(predict_noise_adjusted1, axis = 0)\n",
    "    predict_result_noise1 = np.argmax(predict_noise1, axis = 1)\n",
    "\n",
    "    print((predict_result_clean1 == y_test).mean()) #adjusted\n",
    "    print((predict_result_noise1 == y_test).mean()) "
   ]
  },
  {
   "cell_type": "code",
   "execution_count": 22,
   "metadata": {},
   "outputs": [
    {
     "name": "stdout",
     "output_type": "stream",
     "text": [
      "0.805\n",
      "0.39620070671315066\n",
      "0.7746666666666666\n",
      "0.4178016541640569\n"
     ]
    },
    {
     "name": "stderr",
     "output_type": "stream",
     "text": [
      "/Users/myeumuh/opt/anaconda3/lib/python3.7/site-packages/sklearn/utils/optimize.py:203: ConvergenceWarning: newton-cg failed to converge. Increase the number of iterations.\n",
      "  \"number of iterations.\", ConvergenceWarning)\n"
     ]
    }
   ],
   "source": [
    "clf1.fit(Xtr_val, Str_val)\n",
    "matrix = np.array([[0.5, 0.2, 0.3],[0.3, 0.5, 0.2],[0.2, 0.3, 0.5]])\n",
    "matrix_inv = np.linalg.pinv(matrix)\n",
    "\n",
    "predict_noise1 = clf1.predict_proba(Xts)\n",
    "predict_noise_adjusted1 = np.dot(matrix_inv, predict_noise1.T)\n",
    "\n",
    "predict_result_clean1 = np.argmax(predict_noise_adjusted1, axis = 0)\n",
    "predict_result_noise1 = np.argmax(predict_noise1, axis = 1)\n",
    "\n",
    "print((predict_result_clean1 == Yts).mean()) #adjusted\n",
    "print((predict_result_clean1 == Yts).std()) #adjusted\n",
    "print((predict_result_noise1 == Yts).mean()) \n",
    "print((predict_result_noise1 == Yts).std()) "
   ]
  },
  {
   "cell_type": "code",
   "execution_count": null,
   "metadata": {},
   "outputs": [],
   "source": []
  },
  {
   "cell_type": "code",
   "execution_count": null,
   "metadata": {},
   "outputs": [],
   "source": []
  },
  {
   "cell_type": "code",
   "execution_count": 16,
   "metadata": {},
   "outputs": [
    {
     "name": "stdout",
     "output_type": "stream",
     "text": [
      "2838\n",
      "228\n",
      "1642\n"
     ]
    }
   ],
   "source": [
    "#AdaBoost Classifier Classifier Estimator\n",
    "from sklearn.ensemble import AdaBoostClassifier\n",
    "clf2 = AdaBoostClassifier(n_estimators=10)\n",
    "\n",
    "clf2.fit(Xtr_val, Str_val)\n",
    "    \n",
    "# Estimate Transition Matrix\n",
    "predict_noise2 = clf2.predict_proba(Xts)\n",
    "\n",
    "#choose 3 representative rows/(3 max probabilty in each column)\n",
    "print(np.argmax(predict_noise2[:,0]))    # 1st column max number index\n",
    "print(np.argmax(predict_noise2[:,1]))    # 2ed column max number index\n",
    "print(np.argmax(predict_noise2[:,2]))    # 3rd column max number index"
   ]
  },
  {
   "cell_type": "code",
   "execution_count": 17,
   "metadata": {},
   "outputs": [
    {
     "data": {
      "text/plain": [
       "array([[0.36497251, 0.32507217, 0.30995532],\n",
       "       [0.33099982, 0.36433796, 0.30466222],\n",
       "       [0.32590735, 0.31537514, 0.35871751]])"
      ]
     },
     "execution_count": 17,
     "metadata": {},
     "output_type": "execute_result"
    }
   ],
   "source": [
    "transition_matrix = np.array([predict_noise2[2838], predict_noise2[228], predict_noise2[1642]])\n",
    "transition_matrix"
   ]
  },
  {
   "cell_type": "code",
   "execution_count": 6,
   "metadata": {},
   "outputs": [
    {
     "name": "stdout",
     "output_type": "stream",
     "text": [
      "0.4691666666666667\n",
      "0.47944444444444445\n",
      "0.45694444444444443\n",
      "0.45555555555555555\n",
      "0.4625\n",
      "0.4622222222222222\n",
      "0.46305555555555555\n",
      "0.46194444444444444\n",
      "0.4738888888888889\n",
      "0.4775\n",
      "0.4572222222222222\n",
      "0.45361111111111113\n",
      "0.4697222222222222\n",
      "0.4713888888888889\n",
      "0.4638888888888889\n",
      "0.4622222222222222\n",
      "0.4583333333333333\n",
      "0.45611111111111113\n",
      "0.4672222222222222\n",
      "0.4691666666666667\n"
     ]
    }
   ],
   "source": [
    "#AdaBoost Classifier\n",
    "from sklearn.ensemble import AdaBoostClassifier\n",
    "clf2 = AdaBoostClassifier(n_estimators=10)\n",
    "\n",
    "time = 10\n",
    "for i in range(time):\n",
    "    X_train, X_test, y_train, y_test = train_test_split(Xtr_val, Str_val,test_size=0.2)\n",
    "    clf2.fit(X_train, y_train)\n",
    "    \n",
    "    matrix = np.array([[0.5, 0.2, 0.3],[0.3, 0.5, 0.2],[0.2, 0.3, 0.5]])\n",
    "    matrix_inv = np.linalg.pinv(matrix)\n",
    "\n",
    "\n",
    "    predict_noise2 = clf2.predict_proba(X_test)\n",
    "    predict_noise_adjusted2 = np.dot(matrix_inv, predict_noise2.T)\n",
    "\n",
    "    predict_result_clean2 = np.argmax(predict_noise_adjusted2, axis = 0)\n",
    "    predict_result_noise2 = np.argmax(predict_noise2, axis = 1)\n",
    "\n",
    "    print((predict_result_clean2 == y_test).mean()) #adjusted\n",
    "    print((predict_result_clean2 == y_test).std())\n",
    "    print((predict_result_noise2 == y_test).mean()) \n",
    "    print((predict_result_noise2 == y_test).std())"
   ]
  },
  {
   "cell_type": "code",
   "execution_count": 23,
   "metadata": {},
   "outputs": [
    {
     "name": "stdout",
     "output_type": "stream",
     "text": [
      "0.8673333333333333\n",
      "0.3392141244438713\n",
      "0.857\n",
      "0.3500728495613449\n"
     ]
    }
   ],
   "source": [
    "clf2.fit(Xtr_val, Str_val)\n",
    "matrix = np.array([[0.5, 0.2, 0.3],[0.3, 0.5, 0.2],[0.2, 0.3, 0.5]])\n",
    "matrix_inv = np.linalg.pinv(matrix)\n",
    "\n",
    "predict_noise2 = clf2.predict_proba(Xts)\n",
    "predict_noise_adjusted2 = np.dot(matrix_inv, predict_noise2.T)\n",
    "\n",
    "predict_result_clean2 = np.argmax(predict_noise_adjusted2, axis = 0)\n",
    "predict_result_noise2 = np.argmax(predict_noise2, axis = 1)\n",
    "\n",
    "print((predict_result_clean2 == Yts).mean()) #adjusted\n",
    "print((predict_result_clean2 == Yts).std()) #adjusted\n",
    "\n",
    "print((predict_result_noise2 == Yts).mean()) \n",
    "print((predict_result_noise2 == Yts).std()) "
   ]
  },
  {
   "cell_type": "code",
   "execution_count": null,
   "metadata": {},
   "outputs": [],
   "source": []
  },
  {
   "cell_type": "code",
   "execution_count": 18,
   "metadata": {},
   "outputs": [
    {
     "name": "stdout",
     "output_type": "stream",
     "text": [
      "1390\n",
      "1570\n",
      "100\n"
     ]
    }
   ],
   "source": [
    "#RandomForest Classifier Classifier Estimator\n",
    "from sklearn.ensemble import RandomForestClassifier\n",
    "clf3 = RandomForestClassifier(n_estimators=10,max_depth=7)\n",
    "\n",
    "clf3.fit(Xtr_val, Str_val)\n",
    "    \n",
    "# Estimate Transition Matrix\n",
    "predict_noise3 = clf3.predict_proba(Xts)\n",
    "\n",
    "#choose 3 representative rows/(3 max probabilty in each column)\n",
    "print(np.argmax(predict_noise3[:,0]))    # 1st column max number index\n",
    "print(np.argmax(predict_noise3[:,1]))    # 2ed column max number index\n",
    "print(np.argmax(predict_noise3[:,2]))    # 3rd column max number index"
   ]
  },
  {
   "cell_type": "code",
   "execution_count": 19,
   "metadata": {},
   "outputs": [
    {
     "data": {
      "text/plain": [
       "array([[0.66563383, 0.17216733, 0.16219884],\n",
       "       [0.19490638, 0.62997496, 0.17511866],\n",
       "       [0.2565465 , 0.15887165, 0.58458186]])"
      ]
     },
     "execution_count": 19,
     "metadata": {},
     "output_type": "execute_result"
    }
   ],
   "source": [
    "transition_matrix = np.array([predict_noise3[1390], predict_noise3[1570], predict_noise3[100]])\n",
    "transition_matrix"
   ]
  },
  {
   "cell_type": "code",
   "execution_count": 10,
   "metadata": {},
   "outputs": [
    {
     "name": "stdout",
     "output_type": "stream",
     "text": [
      "0.47333333333333333\n",
      "0.4713888888888889\n",
      "0.47805555555555557\n",
      "0.47638888888888886\n",
      "0.4975\n",
      "0.49833333333333335\n",
      "0.48083333333333333\n",
      "0.4811111111111111\n",
      "0.4716666666666667\n",
      "0.4747222222222222\n",
      "0.4738888888888889\n",
      "0.4716666666666667\n",
      "0.4786111111111111\n",
      "0.4786111111111111\n",
      "0.4736111111111111\n",
      "0.4661111111111111\n",
      "0.47333333333333333\n",
      "0.47305555555555556\n",
      "0.4772222222222222\n",
      "0.47444444444444445\n"
     ]
    }
   ],
   "source": [
    "# RandomForest Classifier\n",
    "from sklearn.ensemble import RandomForestClassifier\n",
    "clf3 = RandomForestClassifier(n_estimators=10,max_depth=7)\n",
    "\n",
    "time = 10\n",
    "for i in range(time):\n",
    "    X_train, X_test, y_train, y_test = train_test_split(Xtr_val, Str_val,test_size=0.2)\n",
    "    clf3.fit(X_train, y_train)\n",
    "    \n",
    "    matrix = np.array([[0.5, 0.2, 0.3],[0.3, 0.5, 0.2],[0.2, 0.3, 0.5]])\n",
    "    matrix_inv = np.linalg.pinv(matrix)\n",
    "\n",
    "    predict_noise3 = clf3.predict_proba(X_test)\n",
    "    predict_noise_adjusted3 = np.dot(matrix_inv, predict_noise3.T)\n",
    "\n",
    "    predict_result_clean3 = np.argmax(predict_noise_adjusted3, axis = 0)\n",
    "    predict_result_noise3 = np.argmax(predict_noise3, axis = 1)\n",
    "\n",
    "    print((predict_result_clean3 == y_test).mean()) #adjusted\n",
    "    print((predict_result_clean3 == y_test).std()) #adjusted\n",
    "    print((predict_result_noise3 == y_test).mean()) \n",
    "    print((predict_result_noise3 == y_test).std()) "
   ]
  },
  {
   "cell_type": "code",
   "execution_count": 24,
   "metadata": {},
   "outputs": [
    {
     "name": "stdout",
     "output_type": "stream",
     "text": [
      "0.8973333333333333\n",
      "0.30352301761517564\n",
      "0.8896666666666667\n",
      "0.313304785933584\n"
     ]
    }
   ],
   "source": [
    "clf3.fit(Xtr_val, Str_val)\n",
    "matrix = np.array([[0.5, 0.2, 0.3],[0.3, 0.5, 0.2],[0.2, 0.3, 0.5]])\n",
    "matrix_inv = np.linalg.pinv(matrix)\n",
    "\n",
    "predict_noise3 = clf3.predict_proba(Xts)\n",
    "predict_noise_adjusted3 = np.dot(matrix_inv, predict_noise3.T)\n",
    "\n",
    "predict_result_clean3 = np.argmax(predict_noise_adjusted3, axis = 0)\n",
    "predict_result_noise3 = np.argmax(predict_noise3, axis = 1)\n",
    "\n",
    "print((predict_result_clean3 == Yts).mean()) #adjusted\n",
    "print((predict_result_clean3 == Yts).std())\n",
    "\n",
    "print((predict_result_noise3 == Yts).mean()) \n",
    "print((predict_result_noise3 == Yts).std())"
   ]
  },
  {
   "cell_type": "code",
   "execution_count": null,
   "metadata": {},
   "outputs": [],
   "source": []
  },
  {
   "cell_type": "code",
   "execution_count": null,
   "metadata": {},
   "outputs": [],
   "source": []
  },
  {
   "cell_type": "code",
   "execution_count": null,
   "metadata": {},
   "outputs": [],
   "source": []
  }
 ],
 "metadata": {
  "kernelspec": {
   "display_name": "Python 3",
   "language": "python",
   "name": "python3"
  },
  "language_info": {
   "codemirror_mode": {
    "name": "ipython",
    "version": 3
   },
   "file_extension": ".py",
   "mimetype": "text/x-python",
   "name": "python",
   "nbconvert_exporter": "python",
   "pygments_lexer": "ipython3",
   "version": "3.7.4"
  }
 },
 "nbformat": 4,
 "nbformat_minor": 2
}
