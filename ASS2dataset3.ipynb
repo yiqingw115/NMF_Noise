{
 "cells": [
  {
   "cell_type": "code",
   "execution_count": 1,
   "metadata": {},
   "outputs": [],
   "source": [
    "import numpy as np\n",
    "import matplotlib.pyplot as plt"
   ]
  },
  {
   "cell_type": "code",
   "execution_count": 2,
   "metadata": {},
   "outputs": [],
   "source": [
    "dataset = np.load(\"CIFAR.npz\")"
   ]
  },
  {
   "cell_type": "code",
   "execution_count": 3,
   "metadata": {},
   "outputs": [
    {
     "name": "stdout",
     "output_type": "stream",
     "text": [
      "(15000, 32, 32, 3)\n",
      "(15000,)\n",
      "(3000, 32, 32, 3)\n",
      "(3000,)\n"
     ]
    }
   ],
   "source": [
    "#load the dataset and check the shape of attributes \n",
    "Xtr_val = dataset[\"Xtr\"]\n",
    "Str_val = dataset[\"Str\"]\n",
    "Xts = dataset[\"Xts\"]\n",
    "Yts = dataset[\"Yts\"]\n",
    "\n",
    "print(Xtr_val.shape)\n",
    "print(Str_val.shape)\n",
    "print(Xts.shape)\n",
    "print(Yts.shape)"
   ]
  },
  {
   "cell_type": "code",
   "execution_count": 4,
   "metadata": {},
   "outputs": [],
   "source": [
    "#reshape to matrices\n",
    "Xtr_val = Xtr_val.reshape(-1, 32*32*3)\n",
    "Xts = Xts.reshape(-1, 32*32*3)"
   ]
  },
  {
   "cell_type": "code",
   "execution_count": 5,
   "metadata": {},
   "outputs": [],
   "source": [
    "from sklearn.model_selection import train_test_split"
   ]
  },
  {
   "cell_type": "code",
   "execution_count": null,
   "metadata": {},
   "outputs": [],
   "source": []
  },
  {
   "cell_type": "code",
   "execution_count": 69,
   "metadata": {},
   "outputs": [
    {
     "name": "stdout",
     "output_type": "stream",
     "text": [
      "2114\n",
      "1073\n",
      "130\n"
     ]
    },
    {
     "name": "stderr",
     "output_type": "stream",
     "text": [
      "/Users/myeumuh/opt/anaconda3/lib/python3.7/site-packages/sklearn/utils/optimize.py:203: ConvergenceWarning: newton-cg failed to converge. Increase the number of iterations.\n",
      "  \"number of iterations.\", ConvergenceWarning)\n"
     ]
    }
   ],
   "source": [
    "#Logistic Regression Classifier Estimator\n",
    "from sklearn.linear_model import LogisticRegression\n",
    "clf1 = LogisticRegression(multi_class = \"multinomial\", solver = \"newton-cg\")\n",
    "\n",
    "clf1.fit(Xtr_val, Str_val)\n",
    "    \n",
    "# Estimate Transition Matrix\n",
    "predict_noise1 = clf1.predict_proba(Xts)\n",
    "\n",
    "#choose 3 representative rows/(3 max probabilty in each column)\n",
    "print(np.argmax(predict_noise1[:,0]))    # 1st column max number index\n",
    "print(np.argmax(predict_noise1[:,1]))    # 2ed column max number index\n",
    "print(np.argmax(predict_noise1[:,2]))    # 3rd column max number index"
   ]
  },
  {
   "cell_type": "code",
   "execution_count": 56,
   "metadata": {},
   "outputs": [
    {
     "data": {
      "text/plain": [
       "array([[9.99989453e-01, 8.57537408e-06, 1.97156130e-06],\n",
       "       [6.16290383e-07, 9.99674590e-01, 3.24794149e-04],\n",
       "       [7.39503623e-04, 3.46226219e-06, 9.99257034e-01]])"
      ]
     },
     "execution_count": 56,
     "metadata": {},
     "output_type": "execute_result"
    }
   ],
   "source": [
    "transition_matrix = np.array([predict_noise1[2114], predict_noise1[1073], predict_noise1[130]])\n",
    "transition_matrix"
   ]
  },
  {
   "cell_type": "code",
   "execution_count": null,
   "metadata": {},
   "outputs": [],
   "source": [
    "#Logistic Regression Classifier\n",
    "from sklearn.linear_model import LogisticRegression\n",
    "clf1 = LogisticRegression(multi_class = \"multinomial\", solver = \"newton-cg\")\n",
    "\n",
    "time = 10\n",
    "for i in range(time):\n",
    "    X_train, X_test, y_train, y_test = train_test_split(Xtr_val, Str_val,test_size=0.2)\n",
    "    clf1.fit(X_train, y_train)\n",
    "    \n",
    "    matrix_inv = np.linalg.pinv(transition_matrix)\n",
    "\n",
    "    predict_noise1 = clf1.predict_proba(X_test)\n",
    "    predict_noise_adjusted1 = np.dot(matrix_inv, predict_noise1.T)\n",
    "\n",
    "    predict_result_clean1 = np.argmax(predict_noise_adjusted1, axis = 0)\n",
    "    predict_result_noise1 = np.argmax(predict_noise1, axis = 1)\n",
    "\n",
    "    print((predict_result_clean1 == y_test).mean()) #adjusted\n",
    "    print((predict_result_noise1 == y_test).mean()) "
   ]
  },
  {
   "cell_type": "code",
   "execution_count": 67,
   "metadata": {},
   "outputs": [
    {
     "ename": "KeyboardInterrupt",
     "evalue": "",
     "output_type": "error",
     "traceback": [
      "\u001b[0;31m---------------------------------------------------------------------------\u001b[0m",
      "\u001b[0;31mKeyboardInterrupt\u001b[0m                         Traceback (most recent call last)",
      "\u001b[0;32m<ipython-input-67-03f8d2cc865b>\u001b[0m in \u001b[0;36m<module>\u001b[0;34m\u001b[0m\n\u001b[0;32m----> 1\u001b[0;31m \u001b[0mclf1\u001b[0m\u001b[0;34m.\u001b[0m\u001b[0mfit\u001b[0m\u001b[0;34m(\u001b[0m\u001b[0mXtr_val\u001b[0m\u001b[0;34m,\u001b[0m \u001b[0mStr_val\u001b[0m\u001b[0;34m)\u001b[0m\u001b[0;34m\u001b[0m\u001b[0;34m\u001b[0m\u001b[0m\n\u001b[0m\u001b[1;32m      2\u001b[0m \u001b[0mmatrix_inv\u001b[0m \u001b[0;34m=\u001b[0m \u001b[0mnp\u001b[0m\u001b[0;34m.\u001b[0m\u001b[0mlinalg\u001b[0m\u001b[0;34m.\u001b[0m\u001b[0mpinv\u001b[0m\u001b[0;34m(\u001b[0m\u001b[0mtransition_matrix\u001b[0m\u001b[0;34m)\u001b[0m\u001b[0;34m\u001b[0m\u001b[0;34m\u001b[0m\u001b[0m\n\u001b[1;32m      3\u001b[0m \u001b[0;34m\u001b[0m\u001b[0m\n\u001b[1;32m      4\u001b[0m \u001b[0mpredict_noise1\u001b[0m \u001b[0;34m=\u001b[0m \u001b[0mclf1\u001b[0m\u001b[0;34m.\u001b[0m\u001b[0mpredict_proba\u001b[0m\u001b[0;34m(\u001b[0m\u001b[0mXts\u001b[0m\u001b[0;34m)\u001b[0m\u001b[0;34m\u001b[0m\u001b[0;34m\u001b[0m\u001b[0m\n\u001b[1;32m      5\u001b[0m \u001b[0mpredict_noise_adjusted1\u001b[0m \u001b[0;34m=\u001b[0m \u001b[0mnp\u001b[0m\u001b[0;34m.\u001b[0m\u001b[0mdot\u001b[0m\u001b[0;34m(\u001b[0m\u001b[0mmatrix_inv\u001b[0m\u001b[0;34m,\u001b[0m \u001b[0mpredict_noise1\u001b[0m\u001b[0;34m.\u001b[0m\u001b[0mT\u001b[0m\u001b[0;34m)\u001b[0m\u001b[0;34m\u001b[0m\u001b[0;34m\u001b[0m\u001b[0m\n",
      "\u001b[0;32m~/opt/anaconda3/lib/python3.7/site-packages/sklearn/linear_model/logistic.py\u001b[0m in \u001b[0;36mfit\u001b[0;34m(self, X, y, sample_weight)\u001b[0m\n\u001b[1;32m   1604\u001b[0m                       \u001b[0mpenalty\u001b[0m\u001b[0;34m=\u001b[0m\u001b[0mpenalty\u001b[0m\u001b[0;34m,\u001b[0m \u001b[0mmax_squared_sum\u001b[0m\u001b[0;34m=\u001b[0m\u001b[0mmax_squared_sum\u001b[0m\u001b[0;34m,\u001b[0m\u001b[0;34m\u001b[0m\u001b[0;34m\u001b[0m\u001b[0m\n\u001b[1;32m   1605\u001b[0m                       sample_weight=sample_weight)\n\u001b[0;32m-> 1606\u001b[0;31m             for class_, warm_start_coef_ in zip(classes_, warm_start_coef))\n\u001b[0m\u001b[1;32m   1607\u001b[0m \u001b[0;34m\u001b[0m\u001b[0m\n\u001b[1;32m   1608\u001b[0m         \u001b[0mfold_coefs_\u001b[0m\u001b[0;34m,\u001b[0m \u001b[0m_\u001b[0m\u001b[0;34m,\u001b[0m \u001b[0mn_iter_\u001b[0m \u001b[0;34m=\u001b[0m \u001b[0mzip\u001b[0m\u001b[0;34m(\u001b[0m\u001b[0;34m*\u001b[0m\u001b[0mfold_coefs_\u001b[0m\u001b[0;34m)\u001b[0m\u001b[0;34m\u001b[0m\u001b[0;34m\u001b[0m\u001b[0m\n",
      "\u001b[0;32m~/opt/anaconda3/lib/python3.7/site-packages/joblib/parallel.py\u001b[0m in \u001b[0;36m__call__\u001b[0;34m(self, iterable)\u001b[0m\n\u001b[1;32m    919\u001b[0m             \u001b[0;31m# remaining jobs.\u001b[0m\u001b[0;34m\u001b[0m\u001b[0;34m\u001b[0m\u001b[0;34m\u001b[0m\u001b[0m\n\u001b[1;32m    920\u001b[0m             \u001b[0mself\u001b[0m\u001b[0;34m.\u001b[0m\u001b[0m_iterating\u001b[0m \u001b[0;34m=\u001b[0m \u001b[0;32mFalse\u001b[0m\u001b[0;34m\u001b[0m\u001b[0;34m\u001b[0m\u001b[0m\n\u001b[0;32m--> 921\u001b[0;31m             \u001b[0;32mif\u001b[0m \u001b[0mself\u001b[0m\u001b[0;34m.\u001b[0m\u001b[0mdispatch_one_batch\u001b[0m\u001b[0;34m(\u001b[0m\u001b[0miterator\u001b[0m\u001b[0;34m)\u001b[0m\u001b[0;34m:\u001b[0m\u001b[0;34m\u001b[0m\u001b[0;34m\u001b[0m\u001b[0m\n\u001b[0m\u001b[1;32m    922\u001b[0m                 \u001b[0mself\u001b[0m\u001b[0;34m.\u001b[0m\u001b[0m_iterating\u001b[0m \u001b[0;34m=\u001b[0m \u001b[0mself\u001b[0m\u001b[0;34m.\u001b[0m\u001b[0m_original_iterator\u001b[0m \u001b[0;32mis\u001b[0m \u001b[0;32mnot\u001b[0m \u001b[0;32mNone\u001b[0m\u001b[0;34m\u001b[0m\u001b[0;34m\u001b[0m\u001b[0m\n\u001b[1;32m    923\u001b[0m \u001b[0;34m\u001b[0m\u001b[0m\n",
      "\u001b[0;32m~/opt/anaconda3/lib/python3.7/site-packages/joblib/parallel.py\u001b[0m in \u001b[0;36mdispatch_one_batch\u001b[0;34m(self, iterator)\u001b[0m\n\u001b[1;32m    757\u001b[0m                 \u001b[0;32mreturn\u001b[0m \u001b[0;32mFalse\u001b[0m\u001b[0;34m\u001b[0m\u001b[0;34m\u001b[0m\u001b[0m\n\u001b[1;32m    758\u001b[0m             \u001b[0;32melse\u001b[0m\u001b[0;34m:\u001b[0m\u001b[0;34m\u001b[0m\u001b[0;34m\u001b[0m\u001b[0m\n\u001b[0;32m--> 759\u001b[0;31m                 \u001b[0mself\u001b[0m\u001b[0;34m.\u001b[0m\u001b[0m_dispatch\u001b[0m\u001b[0;34m(\u001b[0m\u001b[0mtasks\u001b[0m\u001b[0;34m)\u001b[0m\u001b[0;34m\u001b[0m\u001b[0;34m\u001b[0m\u001b[0m\n\u001b[0m\u001b[1;32m    760\u001b[0m                 \u001b[0;32mreturn\u001b[0m \u001b[0;32mTrue\u001b[0m\u001b[0;34m\u001b[0m\u001b[0;34m\u001b[0m\u001b[0m\n\u001b[1;32m    761\u001b[0m \u001b[0;34m\u001b[0m\u001b[0m\n",
      "\u001b[0;32m~/opt/anaconda3/lib/python3.7/site-packages/joblib/parallel.py\u001b[0m in \u001b[0;36m_dispatch\u001b[0;34m(self, batch)\u001b[0m\n\u001b[1;32m    714\u001b[0m         \u001b[0;32mwith\u001b[0m \u001b[0mself\u001b[0m\u001b[0;34m.\u001b[0m\u001b[0m_lock\u001b[0m\u001b[0;34m:\u001b[0m\u001b[0;34m\u001b[0m\u001b[0;34m\u001b[0m\u001b[0m\n\u001b[1;32m    715\u001b[0m             \u001b[0mjob_idx\u001b[0m \u001b[0;34m=\u001b[0m \u001b[0mlen\u001b[0m\u001b[0;34m(\u001b[0m\u001b[0mself\u001b[0m\u001b[0;34m.\u001b[0m\u001b[0m_jobs\u001b[0m\u001b[0;34m)\u001b[0m\u001b[0;34m\u001b[0m\u001b[0;34m\u001b[0m\u001b[0m\n\u001b[0;32m--> 716\u001b[0;31m             \u001b[0mjob\u001b[0m \u001b[0;34m=\u001b[0m \u001b[0mself\u001b[0m\u001b[0;34m.\u001b[0m\u001b[0m_backend\u001b[0m\u001b[0;34m.\u001b[0m\u001b[0mapply_async\u001b[0m\u001b[0;34m(\u001b[0m\u001b[0mbatch\u001b[0m\u001b[0;34m,\u001b[0m \u001b[0mcallback\u001b[0m\u001b[0;34m=\u001b[0m\u001b[0mcb\u001b[0m\u001b[0;34m)\u001b[0m\u001b[0;34m\u001b[0m\u001b[0;34m\u001b[0m\u001b[0m\n\u001b[0m\u001b[1;32m    717\u001b[0m             \u001b[0;31m# A job can complete so quickly than its callback is\u001b[0m\u001b[0;34m\u001b[0m\u001b[0;34m\u001b[0m\u001b[0;34m\u001b[0m\u001b[0m\n\u001b[1;32m    718\u001b[0m             \u001b[0;31m# called before we get here, causing self._jobs to\u001b[0m\u001b[0;34m\u001b[0m\u001b[0;34m\u001b[0m\u001b[0;34m\u001b[0m\u001b[0m\n",
      "\u001b[0;32m~/opt/anaconda3/lib/python3.7/site-packages/joblib/_parallel_backends.py\u001b[0m in \u001b[0;36mapply_async\u001b[0;34m(self, func, callback)\u001b[0m\n\u001b[1;32m    180\u001b[0m     \u001b[0;32mdef\u001b[0m \u001b[0mapply_async\u001b[0m\u001b[0;34m(\u001b[0m\u001b[0mself\u001b[0m\u001b[0;34m,\u001b[0m \u001b[0mfunc\u001b[0m\u001b[0;34m,\u001b[0m \u001b[0mcallback\u001b[0m\u001b[0;34m=\u001b[0m\u001b[0;32mNone\u001b[0m\u001b[0;34m)\u001b[0m\u001b[0;34m:\u001b[0m\u001b[0;34m\u001b[0m\u001b[0;34m\u001b[0m\u001b[0m\n\u001b[1;32m    181\u001b[0m         \u001b[0;34m\"\"\"Schedule a func to be run\"\"\"\u001b[0m\u001b[0;34m\u001b[0m\u001b[0;34m\u001b[0m\u001b[0m\n\u001b[0;32m--> 182\u001b[0;31m         \u001b[0mresult\u001b[0m \u001b[0;34m=\u001b[0m \u001b[0mImmediateResult\u001b[0m\u001b[0;34m(\u001b[0m\u001b[0mfunc\u001b[0m\u001b[0;34m)\u001b[0m\u001b[0;34m\u001b[0m\u001b[0;34m\u001b[0m\u001b[0m\n\u001b[0m\u001b[1;32m    183\u001b[0m         \u001b[0;32mif\u001b[0m \u001b[0mcallback\u001b[0m\u001b[0;34m:\u001b[0m\u001b[0;34m\u001b[0m\u001b[0;34m\u001b[0m\u001b[0m\n\u001b[1;32m    184\u001b[0m             \u001b[0mcallback\u001b[0m\u001b[0;34m(\u001b[0m\u001b[0mresult\u001b[0m\u001b[0;34m)\u001b[0m\u001b[0;34m\u001b[0m\u001b[0;34m\u001b[0m\u001b[0m\n",
      "\u001b[0;32m~/opt/anaconda3/lib/python3.7/site-packages/joblib/_parallel_backends.py\u001b[0m in \u001b[0;36m__init__\u001b[0;34m(self, batch)\u001b[0m\n\u001b[1;32m    547\u001b[0m         \u001b[0;31m# Don't delay the application, to avoid keeping the input\u001b[0m\u001b[0;34m\u001b[0m\u001b[0;34m\u001b[0m\u001b[0;34m\u001b[0m\u001b[0m\n\u001b[1;32m    548\u001b[0m         \u001b[0;31m# arguments in memory\u001b[0m\u001b[0;34m\u001b[0m\u001b[0;34m\u001b[0m\u001b[0;34m\u001b[0m\u001b[0m\n\u001b[0;32m--> 549\u001b[0;31m         \u001b[0mself\u001b[0m\u001b[0;34m.\u001b[0m\u001b[0mresults\u001b[0m \u001b[0;34m=\u001b[0m \u001b[0mbatch\u001b[0m\u001b[0;34m(\u001b[0m\u001b[0;34m)\u001b[0m\u001b[0;34m\u001b[0m\u001b[0;34m\u001b[0m\u001b[0m\n\u001b[0m\u001b[1;32m    550\u001b[0m \u001b[0;34m\u001b[0m\u001b[0m\n\u001b[1;32m    551\u001b[0m     \u001b[0;32mdef\u001b[0m \u001b[0mget\u001b[0m\u001b[0;34m(\u001b[0m\u001b[0mself\u001b[0m\u001b[0;34m)\u001b[0m\u001b[0;34m:\u001b[0m\u001b[0;34m\u001b[0m\u001b[0;34m\u001b[0m\u001b[0m\n",
      "\u001b[0;32m~/opt/anaconda3/lib/python3.7/site-packages/joblib/parallel.py\u001b[0m in \u001b[0;36m__call__\u001b[0;34m(self)\u001b[0m\n\u001b[1;32m    223\u001b[0m         \u001b[0;32mwith\u001b[0m \u001b[0mparallel_backend\u001b[0m\u001b[0;34m(\u001b[0m\u001b[0mself\u001b[0m\u001b[0;34m.\u001b[0m\u001b[0m_backend\u001b[0m\u001b[0;34m,\u001b[0m \u001b[0mn_jobs\u001b[0m\u001b[0;34m=\u001b[0m\u001b[0mself\u001b[0m\u001b[0;34m.\u001b[0m\u001b[0m_n_jobs\u001b[0m\u001b[0;34m)\u001b[0m\u001b[0;34m:\u001b[0m\u001b[0;34m\u001b[0m\u001b[0;34m\u001b[0m\u001b[0m\n\u001b[1;32m    224\u001b[0m             return [func(*args, **kwargs)\n\u001b[0;32m--> 225\u001b[0;31m                     for func, args, kwargs in self.items]\n\u001b[0m\u001b[1;32m    226\u001b[0m \u001b[0;34m\u001b[0m\u001b[0m\n\u001b[1;32m    227\u001b[0m     \u001b[0;32mdef\u001b[0m \u001b[0m__len__\u001b[0m\u001b[0;34m(\u001b[0m\u001b[0mself\u001b[0m\u001b[0;34m)\u001b[0m\u001b[0;34m:\u001b[0m\u001b[0;34m\u001b[0m\u001b[0;34m\u001b[0m\u001b[0m\n",
      "\u001b[0;32m~/opt/anaconda3/lib/python3.7/site-packages/joblib/parallel.py\u001b[0m in \u001b[0;36m<listcomp>\u001b[0;34m(.0)\u001b[0m\n\u001b[1;32m    223\u001b[0m         \u001b[0;32mwith\u001b[0m \u001b[0mparallel_backend\u001b[0m\u001b[0;34m(\u001b[0m\u001b[0mself\u001b[0m\u001b[0;34m.\u001b[0m\u001b[0m_backend\u001b[0m\u001b[0;34m,\u001b[0m \u001b[0mn_jobs\u001b[0m\u001b[0;34m=\u001b[0m\u001b[0mself\u001b[0m\u001b[0;34m.\u001b[0m\u001b[0m_n_jobs\u001b[0m\u001b[0;34m)\u001b[0m\u001b[0;34m:\u001b[0m\u001b[0;34m\u001b[0m\u001b[0;34m\u001b[0m\u001b[0m\n\u001b[1;32m    224\u001b[0m             return [func(*args, **kwargs)\n\u001b[0;32m--> 225\u001b[0;31m                     for func, args, kwargs in self.items]\n\u001b[0m\u001b[1;32m    226\u001b[0m \u001b[0;34m\u001b[0m\u001b[0m\n\u001b[1;32m    227\u001b[0m     \u001b[0;32mdef\u001b[0m \u001b[0m__len__\u001b[0m\u001b[0;34m(\u001b[0m\u001b[0mself\u001b[0m\u001b[0;34m)\u001b[0m\u001b[0;34m:\u001b[0m\u001b[0;34m\u001b[0m\u001b[0;34m\u001b[0m\u001b[0m\n",
      "\u001b[0;32m~/opt/anaconda3/lib/python3.7/site-packages/sklearn/linear_model/logistic.py\u001b[0m in \u001b[0;36m_logistic_regression_path\u001b[0;34m(X, y, pos_class, Cs, fit_intercept, max_iter, tol, verbose, solver, coef, class_weight, dual, penalty, intercept_scaling, multi_class, random_state, check_input, max_squared_sum, sample_weight, l1_ratio)\u001b[0m\n\u001b[1;32m    952\u001b[0m             \u001b[0margs\u001b[0m \u001b[0;34m=\u001b[0m \u001b[0;34m(\u001b[0m\u001b[0mX\u001b[0m\u001b[0;34m,\u001b[0m \u001b[0mtarget\u001b[0m\u001b[0;34m,\u001b[0m \u001b[0;36m1.\u001b[0m \u001b[0;34m/\u001b[0m \u001b[0mC\u001b[0m\u001b[0;34m,\u001b[0m \u001b[0msample_weight\u001b[0m\u001b[0;34m)\u001b[0m\u001b[0;34m\u001b[0m\u001b[0;34m\u001b[0m\u001b[0m\n\u001b[1;32m    953\u001b[0m             w0, n_iter_i = newton_cg(hess, func, grad, w0, args=args,\n\u001b[0;32m--> 954\u001b[0;31m                                      maxiter=max_iter, tol=tol)\n\u001b[0m\u001b[1;32m    955\u001b[0m         \u001b[0;32melif\u001b[0m \u001b[0msolver\u001b[0m \u001b[0;34m==\u001b[0m \u001b[0;34m'liblinear'\u001b[0m\u001b[0;34m:\u001b[0m\u001b[0;34m\u001b[0m\u001b[0;34m\u001b[0m\u001b[0m\n\u001b[1;32m    956\u001b[0m             coef_, intercept_, n_iter_i, = _fit_liblinear(\n",
      "\u001b[0;32m~/opt/anaconda3/lib/python3.7/site-packages/sklearn/utils/optimize.py\u001b[0m in \u001b[0;36mnewton_cg\u001b[0;34m(grad_hess, func, grad, x0, args, tol, maxiter, maxinner, line_search, warn)\u001b[0m\n\u001b[1;32m    183\u001b[0m         \u001b[0;31m# Inner loop: solve the Newton update by conjugate gradient, to\u001b[0m\u001b[0;34m\u001b[0m\u001b[0;34m\u001b[0m\u001b[0;34m\u001b[0m\u001b[0m\n\u001b[1;32m    184\u001b[0m         \u001b[0;31m# avoid inverting the Hessian\u001b[0m\u001b[0;34m\u001b[0m\u001b[0;34m\u001b[0m\u001b[0;34m\u001b[0m\u001b[0m\n\u001b[0;32m--> 185\u001b[0;31m         \u001b[0mxsupi\u001b[0m \u001b[0;34m=\u001b[0m \u001b[0m_cg\u001b[0m\u001b[0;34m(\u001b[0m\u001b[0mfhess_p\u001b[0m\u001b[0;34m,\u001b[0m \u001b[0mfgrad\u001b[0m\u001b[0;34m,\u001b[0m \u001b[0mmaxiter\u001b[0m\u001b[0;34m=\u001b[0m\u001b[0mmaxinner\u001b[0m\u001b[0;34m,\u001b[0m \u001b[0mtol\u001b[0m\u001b[0;34m=\u001b[0m\u001b[0mtermcond\u001b[0m\u001b[0;34m)\u001b[0m\u001b[0;34m\u001b[0m\u001b[0;34m\u001b[0m\u001b[0m\n\u001b[0m\u001b[1;32m    186\u001b[0m \u001b[0;34m\u001b[0m\u001b[0m\n\u001b[1;32m    187\u001b[0m         \u001b[0malphak\u001b[0m \u001b[0;34m=\u001b[0m \u001b[0;36m1.0\u001b[0m\u001b[0;34m\u001b[0m\u001b[0;34m\u001b[0m\u001b[0m\n",
      "\u001b[0;32m~/opt/anaconda3/lib/python3.7/site-packages/sklearn/utils/optimize.py\u001b[0m in \u001b[0;36m_cg\u001b[0;34m(fhess_p, fgrad, maxiter, tol)\u001b[0m\n\u001b[1;32m     88\u001b[0m             \u001b[0;32mbreak\u001b[0m\u001b[0;34m\u001b[0m\u001b[0;34m\u001b[0m\u001b[0m\n\u001b[1;32m     89\u001b[0m \u001b[0;34m\u001b[0m\u001b[0m\n\u001b[0;32m---> 90\u001b[0;31m         \u001b[0mAp\u001b[0m \u001b[0;34m=\u001b[0m \u001b[0mfhess_p\u001b[0m\u001b[0;34m(\u001b[0m\u001b[0mpsupi\u001b[0m\u001b[0;34m)\u001b[0m\u001b[0;34m\u001b[0m\u001b[0;34m\u001b[0m\u001b[0m\n\u001b[0m\u001b[1;32m     91\u001b[0m         \u001b[0;31m# check curvature\u001b[0m\u001b[0;34m\u001b[0m\u001b[0;34m\u001b[0m\u001b[0;34m\u001b[0m\u001b[0m\n\u001b[1;32m     92\u001b[0m         \u001b[0mcurv\u001b[0m \u001b[0;34m=\u001b[0m \u001b[0mnp\u001b[0m\u001b[0;34m.\u001b[0m\u001b[0mdot\u001b[0m\u001b[0;34m(\u001b[0m\u001b[0mpsupi\u001b[0m\u001b[0;34m,\u001b[0m \u001b[0mAp\u001b[0m\u001b[0;34m)\u001b[0m\u001b[0;34m\u001b[0m\u001b[0;34m\u001b[0m\u001b[0m\n",
      "\u001b[0;32m~/opt/anaconda3/lib/python3.7/site-packages/sklearn/linear_model/logistic.py\u001b[0m in \u001b[0;36mhessp\u001b[0;34m(v)\u001b[0m\n\u001b[1;32m    410\u001b[0m         \u001b[0;31m# r_yhat holds the result of applying the R-operator on the multinomial\u001b[0m\u001b[0;34m\u001b[0m\u001b[0;34m\u001b[0m\u001b[0;34m\u001b[0m\u001b[0m\n\u001b[1;32m    411\u001b[0m         \u001b[0;31m# estimator.\u001b[0m\u001b[0;34m\u001b[0m\u001b[0;34m\u001b[0m\u001b[0;34m\u001b[0m\u001b[0m\n\u001b[0;32m--> 412\u001b[0;31m         \u001b[0mr_yhat\u001b[0m \u001b[0;34m=\u001b[0m \u001b[0msafe_sparse_dot\u001b[0m\u001b[0;34m(\u001b[0m\u001b[0mX\u001b[0m\u001b[0;34m,\u001b[0m \u001b[0mv\u001b[0m\u001b[0;34m.\u001b[0m\u001b[0mT\u001b[0m\u001b[0;34m)\u001b[0m\u001b[0;34m\u001b[0m\u001b[0;34m\u001b[0m\u001b[0m\n\u001b[0m\u001b[1;32m    413\u001b[0m         \u001b[0mr_yhat\u001b[0m \u001b[0;34m+=\u001b[0m \u001b[0minter_terms\u001b[0m\u001b[0;34m\u001b[0m\u001b[0;34m\u001b[0m\u001b[0m\n\u001b[1;32m    414\u001b[0m         \u001b[0mr_yhat\u001b[0m \u001b[0;34m+=\u001b[0m \u001b[0;34m(\u001b[0m\u001b[0;34m-\u001b[0m\u001b[0mp\u001b[0m \u001b[0;34m*\u001b[0m \u001b[0mr_yhat\u001b[0m\u001b[0;34m)\u001b[0m\u001b[0;34m.\u001b[0m\u001b[0msum\u001b[0m\u001b[0;34m(\u001b[0m\u001b[0maxis\u001b[0m\u001b[0;34m=\u001b[0m\u001b[0;36m1\u001b[0m\u001b[0;34m)\u001b[0m\u001b[0;34m[\u001b[0m\u001b[0;34m:\u001b[0m\u001b[0;34m,\u001b[0m \u001b[0mnp\u001b[0m\u001b[0;34m.\u001b[0m\u001b[0mnewaxis\u001b[0m\u001b[0;34m]\u001b[0m\u001b[0;34m\u001b[0m\u001b[0;34m\u001b[0m\u001b[0m\n",
      "\u001b[0;32m~/opt/anaconda3/lib/python3.7/site-packages/sklearn/utils/extmath.py\u001b[0m in \u001b[0;36msafe_sparse_dot\u001b[0;34m(a, b, dense_output)\u001b[0m\n\u001b[1;32m    140\u001b[0m         \u001b[0;32mreturn\u001b[0m \u001b[0mret\u001b[0m\u001b[0;34m\u001b[0m\u001b[0;34m\u001b[0m\u001b[0m\n\u001b[1;32m    141\u001b[0m     \u001b[0;32melse\u001b[0m\u001b[0;34m:\u001b[0m\u001b[0;34m\u001b[0m\u001b[0;34m\u001b[0m\u001b[0m\n\u001b[0;32m--> 142\u001b[0;31m         \u001b[0;32mreturn\u001b[0m \u001b[0mnp\u001b[0m\u001b[0;34m.\u001b[0m\u001b[0mdot\u001b[0m\u001b[0;34m(\u001b[0m\u001b[0ma\u001b[0m\u001b[0;34m,\u001b[0m \u001b[0mb\u001b[0m\u001b[0;34m)\u001b[0m\u001b[0;34m\u001b[0m\u001b[0;34m\u001b[0m\u001b[0m\n\u001b[0m\u001b[1;32m    143\u001b[0m \u001b[0;34m\u001b[0m\u001b[0m\n\u001b[1;32m    144\u001b[0m \u001b[0;34m\u001b[0m\u001b[0m\n",
      "\u001b[0;32m<__array_function__ internals>\u001b[0m in \u001b[0;36mdot\u001b[0;34m(*args, **kwargs)\u001b[0m\n",
      "\u001b[0;31mKeyboardInterrupt\u001b[0m: "
     ]
    }
   ],
   "source": [
    "clf1.fit(Xtr_val, Str_val)\n",
    "matrix_inv = np.linalg.pinv(transition_matrix)\n",
    "\n",
    "predict_noise1 = clf1.predict_proba(Xts)\n",
    "predict_noise_adjusted1 = np.dot(matrix_inv, predict_noise1.T)\n",
    "\n",
    "predict_result_clean1 = np.argmax(predict_noise_adjusted1, axis = 0)\n",
    "predict_result_noise1 = np.argmax(predict_noise1, axis = 1)\n",
    "\n",
    "print((predict_result_clean1 == Yts).mean()) #adjusted\n",
    "print((predict_result_clean1 == Yts).std()) #adjusted\n",
    "print((predict_result_noise1 == Yts).mean()) \n",
    "print((predict_result_noise1 == Yts).std()) "
   ]
  },
  {
   "cell_type": "code",
   "execution_count": 70,
   "metadata": {},
   "outputs": [],
   "source": [
    "matrix1 = np.array([[0.5, 0.2, 0.3],[0.3, 0.5, 0.2],[0.2, 0.3, 0.5]])\n",
    "matrix2 = np.array([[0.4, 0.3, 0.3],[0.3, 0.4, 0.3],[0.3, 0.3, 0.4]])"
   ]
  },
  {
   "cell_type": "code",
   "execution_count": 77,
   "metadata": {},
   "outputs": [
    {
     "name": "stdout",
     "output_type": "stream",
     "text": [
      "0.37766666666666665\n",
      "0.48480362576568625\n",
      "0.37066666666666664\n",
      "0.4829833215431863\n"
     ]
    },
    {
     "name": "stderr",
     "output_type": "stream",
     "text": [
      "/Users/myeumuh/opt/anaconda3/lib/python3.7/site-packages/sklearn/utils/optimize.py:203: ConvergenceWarning: newton-cg failed to converge. Increase the number of iterations.\n",
      "  \"number of iterations.\", ConvergenceWarning)\n"
     ]
    }
   ],
   "source": [
    "clf1.fit(Xtr_val, Str_val)\n",
    "matrix_inv = np.linalg.pinv(matrix1)\n",
    "\n",
    "predict_noise1 = clf1.predict_proba(Xts)\n",
    "predict_noise_adjusted1 = np.dot(matrix_inv, predict_noise1.T)\n",
    "\n",
    "predict_result_clean1 = np.argmax(predict_noise_adjusted1, axis = 0)\n",
    "predict_result_noise1 = np.argmax(predict_noise1, axis = 1)\n",
    "\n",
    "print((predict_result_clean1 == Yts).mean()) #adjusted\n",
    "print((predict_result_clean1 == Yts).std()) #adjusted\n",
    "print((predict_result_noise1 == Yts).mean()) \n",
    "print((predict_result_noise1 == Yts).std()) "
   ]
  },
  {
   "cell_type": "code",
   "execution_count": 78,
   "metadata": {},
   "outputs": [
    {
     "name": "stdout",
     "output_type": "stream",
     "text": [
      "0.37066666666666664\n",
      "0.4829833215431863\n",
      "0.37066666666666664\n",
      "0.4829833215431863\n"
     ]
    },
    {
     "name": "stderr",
     "output_type": "stream",
     "text": [
      "/Users/myeumuh/opt/anaconda3/lib/python3.7/site-packages/sklearn/utils/optimize.py:203: ConvergenceWarning: newton-cg failed to converge. Increase the number of iterations.\n",
      "  \"number of iterations.\", ConvergenceWarning)\n"
     ]
    }
   ],
   "source": [
    "clf1.fit(Xtr_val, Str_val)\n",
    "matrix_inv = np.linalg.pinv(matrix2)\n",
    "\n",
    "predict_noise1 = clf1.predict_proba(Xts)\n",
    "predict_noise_adjusted1 = np.dot(matrix_inv, predict_noise1.T)\n",
    "\n",
    "predict_result_clean1 = np.argmax(predict_noise_adjusted1, axis = 0)\n",
    "predict_result_noise1 = np.argmax(predict_noise1, axis = 1)\n",
    "\n",
    "print((predict_result_clean1 == Yts).mean()) #adjusted\n",
    "print((predict_result_clean1 == Yts).std()) #adjusted\n",
    "print((predict_result_noise1 == Yts).mean()) \n",
    "print((predict_result_noise1 == Yts).std()) "
   ]
  },
  {
   "cell_type": "code",
   "execution_count": null,
   "metadata": {},
   "outputs": [],
   "source": [
    "#AdaBoost Classifier Estimator\n",
    "from sklearn.ensemble import AdaBoostClassifier\n",
    "clf2 = AdaBoostClassifier(n_estimators=10)\n",
    "\n",
    "time = 10\n",
    "for i in range(time):\n",
    "    X_train, X_test, y_train, y_test = train_test_split(Xtr_val, Str_val,test_size=0.2)\n",
    "    clf2.fit(X_train, y_train)\n",
    "\n",
    "#    predict_noise2 = clf2.predict_proba(X_test)\n",
    "\n",
    "#    predict_result_noise2 = np.argmax(predict_noise2, axis = 1)\n",
    "\n",
    "#    print((predict_result_noise2 == y_test).mean()) \n",
    "#    print((predict_result_noise2 == y_test).std())"
   ]
  },
  {
   "cell_type": "code",
   "execution_count": 64,
   "metadata": {},
   "outputs": [
    {
     "name": "stdout",
     "output_type": "stream",
     "text": [
      "1071\n",
      "1458\n",
      "477\n"
     ]
    }
   ],
   "source": [
    "# Estimate Transition Matrix\n",
    "predict_noise2 = clf2.predict_proba(Xts)\n",
    "\n",
    "#choose 3 representative rows/(3 max probabilty in each column)\n",
    "print(np.argmax(predict_noise2[:,0]))    # 1st column max number index\n",
    "print(np.argmax(predict_noise2[:,1]))    # 2ed column max number index\n",
    "print(np.argmax(predict_noise2[:,2]))    # 3rd column max number index"
   ]
  },
  {
   "cell_type": "code",
   "execution_count": 65,
   "metadata": {},
   "outputs": [
    {
     "data": {
      "text/plain": [
       "array([[0.3432841 , 0.34645369, 0.31026221],\n",
       "       [0.30361172, 0.37226126, 0.32412701],\n",
       "       [0.3187501 , 0.32632349, 0.35492641]])"
      ]
     },
     "execution_count": 65,
     "metadata": {},
     "output_type": "execute_result"
    }
   ],
   "source": [
    "transition_matrix = np.array([predict_noise2[1071], predict_noise2[1458], predict_noise2[477]])\n",
    "transition_matrix"
   ]
  },
  {
   "cell_type": "code",
   "execution_count": 25,
   "metadata": {},
   "outputs": [
    {
     "name": "stdout",
     "output_type": "stream",
     "text": [
      "0.36233333333333334\n",
      "0.48067441047853676\n",
      "0.3636666666666667\n",
      "0.4810542819913593\n",
      "0.3343333333333333\n",
      "0.4717568818316862\n",
      "0.3396666666666667\n",
      "0.47359605384992626\n",
      "0.36033333333333334\n",
      "0.4800970966608965\n",
      "0.36566666666666664\n",
      "0.48161660639512377\n",
      "0.35333333333333333\n",
      "0.4780051138731561\n",
      "0.357\n",
      "0.47911480878803986\n",
      "0.36\n",
      "0.48000000000000004\n",
      "0.36933333333333335\n",
      "0.482624307533533\n",
      "0.347\n",
      "0.4760157560417512\n",
      "0.3516666666666667\n",
      "0.47749054673597696\n",
      "0.3453333333333333\n",
      "0.47547683668315777\n",
      "0.342\n",
      "0.47437959483940706\n",
      "0.354\n",
      "0.4782091592598368\n",
      "0.356\n",
      "0.4788152044369519\n",
      "0.35333333333333333\n",
      "0.4780051138731561\n",
      "0.35533333333333333\n",
      "0.47861420325305387\n",
      "0.3393333333333333\n",
      "0.4734830749057692\n",
      "0.3436666666666667\n",
      "0.47493145704289674\n"
     ]
    }
   ],
   "source": [
    "#AdaBoost Classifier\n",
    "from sklearn.ensemble import AdaBoostClassifier\n",
    "clf2 = AdaBoostClassifier(n_estimators=10)\n",
    "\n",
    "time = 10\n",
    "for i in range(time):\n",
    "    X_train, X_test, y_train, y_test = train_test_split(Xtr_val, Str_val,test_size=0.2)\n",
    "    clf2.fit(X_train, y_train)\n",
    "    \n",
    "    matrix_inv = np.linalg.pinv(transition_matrix)\n",
    "\n",
    "    predict_noise2 = clf2.predict_proba(X_test)\n",
    "    predict_noise_adjusted2 = np.dot(matrix_inv, predict_noise2.T)\n",
    "\n",
    "    predict_result_clean2 = np.argmax(predict_noise_adjusted2, axis = 0)\n",
    "    predict_result_noise2 = np.argmax(predict_noise2, axis = 1)\n",
    "\n",
    "    print((predict_result_clean2 == y_test).mean()) #adjusted\n",
    "    print((predict_result_clean2 == y_test).std()) #adjusted\n",
    "    print((predict_result_noise2 == y_test).mean()) \n",
    "    print((predict_result_noise2 == y_test).std())"
   ]
  },
  {
   "cell_type": "code",
   "execution_count": 66,
   "metadata": {},
   "outputs": [
    {
     "name": "stdout",
     "output_type": "stream",
     "text": [
      "0.3873333333333333\n",
      "0.4871408648658232\n",
      "0.515\n",
      "0.4997749493522059\n"
     ]
    }
   ],
   "source": [
    "clf2.fit(Xtr_val, Str_val)\n",
    "matrix_inv = np.linalg.pinv(transition_matrix)\n",
    "\n",
    "predict_noise2 = clf2.predict_proba(Xts)\n",
    "predict_noise_adjusted2 = np.dot(matrix_inv, predict_noise2.T)\n",
    "\n",
    "predict_result_clean2 = np.argmax(predict_noise_adjusted2, axis = 0)\n",
    "predict_result_noise2 = np.argmax(predict_noise2, axis = 1)\n",
    "\n",
    "print((predict_result_clean2 == Yts).mean()) #adjusted\n",
    "print((predict_result_clean2 == Yts).std()) #adjusted\n",
    "\n",
    "print((predict_result_noise2 == Yts).mean()) \n",
    "print((predict_result_noise2 == Yts).std()) "
   ]
  },
  {
   "cell_type": "code",
   "execution_count": 72,
   "metadata": {},
   "outputs": [
    {
     "name": "stdout",
     "output_type": "stream",
     "text": [
      "0.561\n",
      "0.49626505014961514\n",
      "0.515\n",
      "0.4997749493522059\n"
     ]
    }
   ],
   "source": [
    "clf2.fit(Xtr_val, Str_val)\n",
    "matrix_inv = np.linalg.pinv(matrix1)\n",
    "\n",
    "predict_noise2 = clf2.predict_proba(Xts)\n",
    "predict_noise_adjusted2 = np.dot(matrix_inv, predict_noise2.T)\n",
    "\n",
    "predict_result_clean2 = np.argmax(predict_noise_adjusted2, axis = 0)\n",
    "predict_result_noise2 = np.argmax(predict_noise2, axis = 1)\n",
    "\n",
    "print((predict_result_clean2 == Yts).mean()) #adjusted\n",
    "print((predict_result_clean2 == Yts).std()) #adjusted\n",
    "\n",
    "print((predict_result_noise2 == Yts).mean()) \n",
    "print((predict_result_noise2 == Yts).std()) "
   ]
  },
  {
   "cell_type": "code",
   "execution_count": 73,
   "metadata": {},
   "outputs": [
    {
     "name": "stdout",
     "output_type": "stream",
     "text": [
      "0.515\n",
      "0.4997749493522059\n",
      "0.515\n",
      "0.4997749493522059\n"
     ]
    }
   ],
   "source": [
    "clf2.fit(Xtr_val, Str_val)\n",
    "matrix_inv = np.linalg.pinv(matrix2)\n",
    "\n",
    "predict_noise2 = clf2.predict_proba(Xts)\n",
    "predict_noise_adjusted2 = np.dot(matrix_inv, predict_noise2.T)\n",
    "\n",
    "predict_result_clean2 = np.argmax(predict_noise_adjusted2, axis = 0)\n",
    "predict_result_noise2 = np.argmax(predict_noise2, axis = 1)\n",
    "\n",
    "print((predict_result_clean2 == Yts).mean()) #adjusted\n",
    "print((predict_result_clean2 == Yts).std()) #adjusted\n",
    "\n",
    "print((predict_result_noise2 == Yts).mean()) \n",
    "print((predict_result_noise2 == Yts).std()) "
   ]
  },
  {
   "cell_type": "code",
   "execution_count": 35,
   "metadata": {},
   "outputs": [
    {
     "name": "stdout",
     "output_type": "stream",
     "text": [
      "0.3516666666666667\n",
      "0.47749054673597696\n",
      "0.36333333333333334\n",
      "0.48095968877050627\n",
      "0.36966666666666664\n",
      "0.4827144313382626\n",
      "0.374\n",
      "0.4838636171484688\n",
      "0.373\n",
      "0.48360210917654195\n",
      "0.3383333333333333\n",
      "0.4731425671918443\n",
      "0.36766666666666664\n",
      "0.4821699792489044\n",
      "0.3626666666666667\n",
      "0.48076975316210935\n",
      "0.358\n",
      "0.47941214002150595\n",
      "0.368\n",
      "0.4822613399392491\n"
     ]
    }
   ],
   "source": [
    "#RandomForest Classifier Estimator\n",
    "from sklearn.ensemble import RandomForestClassifier\n",
    "clf3 = RandomForestClassifier(n_estimators=10,max_depth=7)\n",
    "\n",
    "time = 10\n",
    "for i in range(time):\n",
    "    X_train, X_test, y_train, y_test = train_test_split(Xtr_val, Str_val,test_size=0.2)\n",
    "    clf3.fit(X_train, y_train)\n",
    "\n",
    "#    predict_noise3 = clf3.predict_proba(X_test)\n",
    "\n",
    " #   predict_result_noise3 = np.argmax(predict_noise3, axis = 1)\n",
    "\n",
    "  #  print((predict_result_noise3 == y_test).mean()) \n",
    "   # print((predict_result_noise3 == y_test).std())"
   ]
  },
  {
   "cell_type": "code",
   "execution_count": 36,
   "metadata": {},
   "outputs": [
    {
     "name": "stdout",
     "output_type": "stream",
     "text": [
      "1087\n",
      "2660\n",
      "1177\n"
     ]
    }
   ],
   "source": [
    "# Estimate Transition Matrix\n",
    "predict_noise3 = clf3.predict_proba(Xts)\n",
    "\n",
    "#choose 3 representative rows/(3 max probabilty in each column)\n",
    "print(np.argmax(predict_noise3[:,0]))    # 1st column max number index\n",
    "print(np.argmax(predict_noise3[:,1]))    # 2ed column max number index\n",
    "print(np.argmax(predict_noise3[:,2]))    # 3rd column max number index"
   ]
  },
  {
   "cell_type": "code",
   "execution_count": 37,
   "metadata": {},
   "outputs": [
    {
     "data": {
      "text/plain": [
       "array([[0.62001857, 0.2012565 , 0.17872493],\n",
       "       [0.21313697, 0.60168715, 0.18517588],\n",
       "       [0.20955142, 0.25031104, 0.54013753]])"
      ]
     },
     "execution_count": 37,
     "metadata": {},
     "output_type": "execute_result"
    }
   ],
   "source": [
    "transition_matrix = np.array([predict_noise3[1087], predict_noise3[2660], predict_noise3[1177]])\n",
    "transition_matrix"
   ]
  },
  {
   "cell_type": "code",
   "execution_count": 38,
   "metadata": {},
   "outputs": [
    {
     "name": "stdout",
     "output_type": "stream",
     "text": [
      "0.3576666666666667\n",
      "0.47931328191718436\n",
      "0.35833333333333334\n",
      "0.4795107460271934\n",
      "0.3463333333333333\n",
      "0.47580096212130085\n",
      "0.347\n",
      "0.4760157560417512\n",
      "0.3566666666666667\n",
      "0.4790151934495977\n",
      "0.357\n",
      "0.47911480878803986\n",
      "0.3516666666666667\n",
      "0.47749054673597696\n",
      "0.35133333333333333\n",
      "0.4773868685062695\n",
      "0.3393333333333333\n",
      "0.4734830749057692\n",
      "0.3373333333333333\n",
      "0.4727996991914817\n",
      "0.3556666666666667\n",
      "0.478714830445944\n",
      "0.35433333333333333\n",
      "0.4783108008630186\n",
      "0.346\n",
      "0.4756931784249171\n",
      "0.3443333333333333\n",
      "0.47515038555060535\n",
      "0.346\n",
      "0.47569317842491715\n",
      "0.345\n",
      "0.4753682782853732\n",
      "0.35133333333333333\n",
      "0.47738686850626955\n",
      "0.34933333333333333\n",
      "0.4767594315328807\n",
      "0.35633333333333334\n",
      "0.4789153253852802\n",
      "0.355\n",
      "0.478513322698543\n"
     ]
    }
   ],
   "source": [
    "# RandomForest Classifier\n",
    "from sklearn.ensemble import RandomForestClassifier\n",
    "clf3 = RandomForestClassifier(n_estimators=10,max_depth=7)\n",
    "\n",
    "time = 10\n",
    "for i in range(time):\n",
    "    X_train, X_test, y_train, y_test = train_test_split(Xtr_val, Str_val,test_size=0.2)\n",
    "    clf3.fit(X_train, y_train)\n",
    "    \n",
    "    matrix_inv = np.linalg.pinv(transition_matrix)\n",
    "\n",
    "    predict_noise3 = clf3.predict_proba(X_test)\n",
    "    predict_noise_adjusted3 = np.dot(matrix_inv, predict_noise3.T)\n",
    "\n",
    "    predict_result_clean3 = np.argmax(predict_noise_adjusted3, axis = 0)\n",
    "    predict_result_noise3 = np.argmax(predict_noise3, axis = 1)\n",
    "\n",
    "    print((predict_result_clean3 == y_test).mean()) #adjusted\n",
    "    print((predict_result_clean3 == y_test).std()) #adjusted\n",
    "    print((predict_result_noise3 == y_test).mean()) \n",
    "    print((predict_result_noise3 == y_test).std()) "
   ]
  },
  {
   "cell_type": "code",
   "execution_count": 80,
   "metadata": {},
   "outputs": [
    {
     "name": "stdout",
     "output_type": "stream",
     "text": [
      "0.434\n",
      "0.49562485813364937\n",
      "0.49566666666666664\n",
      "0.499981221869604\n"
     ]
    }
   ],
   "source": [
    "clf3.fit(Xtr_val, Str_val)\n",
    "matrix_inv = np.linalg.pinv(transition_matrix)\n",
    "\n",
    "predict_noise3 = clf3.predict_proba(Xts)\n",
    "predict_noise_adjusted3 = np.dot(matrix_inv, predict_noise3.T)\n",
    "\n",
    "predict_result_clean3 = np.argmax(predict_noise_adjusted3, axis = 0)\n",
    "predict_result_noise3 = np.argmax(predict_noise3, axis = 1)\n",
    "\n",
    "print((predict_result_clean3 == Yts).mean()) #adjusted\n",
    "print((predict_result_clean3 == Yts).std())\n",
    "\n",
    "print((predict_result_noise3 == Yts).mean()) \n",
    "print((predict_result_noise3 == Yts).std())"
   ]
  },
  {
   "cell_type": "code",
   "execution_count": 74,
   "metadata": {},
   "outputs": [
    {
     "name": "stdout",
     "output_type": "stream",
     "text": [
      "0.5346666666666666\n",
      "0.49879677447054754\n",
      "0.491\n",
      "0.49991899343793694\n"
     ]
    }
   ],
   "source": [
    "clf3.fit(Xtr_val, Str_val)\n",
    "matrix_inv = np.linalg.pinv(matrix1)\n",
    "\n",
    "predict_noise3 = clf3.predict_proba(Xts)\n",
    "predict_noise_adjusted3 = np.dot(matrix_inv, predict_noise3.T)\n",
    "\n",
    "predict_result_clean3 = np.argmax(predict_noise_adjusted3, axis = 0)\n",
    "predict_result_noise3 = np.argmax(predict_noise3, axis = 1)\n",
    "\n",
    "print((predict_result_clean3 == Yts).mean()) #adjusted\n",
    "print((predict_result_clean3 == Yts).std())\n",
    "\n",
    "print((predict_result_noise3 == Yts).mean()) \n",
    "print((predict_result_noise3 == Yts).std())"
   ]
  },
  {
   "cell_type": "code",
   "execution_count": 75,
   "metadata": {},
   "outputs": [
    {
     "name": "stdout",
     "output_type": "stream",
     "text": [
      "0.5113333333333333\n",
      "0.49987153905334075\n",
      "0.5113333333333333\n",
      "0.49987153905334075\n"
     ]
    }
   ],
   "source": [
    "clf3.fit(Xtr_val, Str_val)\n",
    "matrix_inv = np.linalg.pinv(matrix2)\n",
    "\n",
    "predict_noise3 = clf3.predict_proba(Xts)\n",
    "predict_noise_adjusted3 = np.dot(matrix_inv, predict_noise3.T)\n",
    "\n",
    "predict_result_clean3 = np.argmax(predict_noise_adjusted3, axis = 0)\n",
    "predict_result_noise3 = np.argmax(predict_noise3, axis = 1)\n",
    "\n",
    "print((predict_result_clean3 == Yts).mean()) #adjusted\n",
    "print((predict_result_clean3 == Yts).std())\n",
    "\n",
    "print((predict_result_noise3 == Yts).mean()) \n",
    "print((predict_result_noise3 == Yts).std())"
   ]
  },
  {
   "cell_type": "code",
   "execution_count": null,
   "metadata": {},
   "outputs": [],
   "source": []
  }
 ],
 "metadata": {
  "kernelspec": {
   "display_name": "Python 3",
   "language": "python",
   "name": "python3"
  },
  "language_info": {
   "codemirror_mode": {
    "name": "ipython",
    "version": 3
   },
   "file_extension": ".py",
   "mimetype": "text/x-python",
   "name": "python",
   "nbconvert_exporter": "python",
   "pygments_lexer": "ipython3",
   "version": "3.7.4"
  }
 },
 "nbformat": 4,
 "nbformat_minor": 2
}
